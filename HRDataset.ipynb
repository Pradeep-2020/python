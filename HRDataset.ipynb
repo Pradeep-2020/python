{
 "cells": [
  {
   "cell_type": "code",
   "execution_count": null,
   "id": "f39765d5",
   "metadata": {},
   "outputs": [
    {
     "name": "stderr",
     "output_type": "stream",
     "text": [
      "C:\\Users\\Abc\\anaconda3\\lib\\site-packages\\scipy\\__init__.py:146: UserWarning: A NumPy version >=1.16.5 and <1.23.0 is required for this version of SciPy (detected version 1.23.5\n",
      "  warnings.warn(f\"A NumPy version >={np_minversion} and <{np_maxversion}\"\n"
     ]
    }
   ],
   "source": [
    "import pandas as pd\n",
    "import numpy as np\n",
    "import seaborn as sns\n",
    "import matplotlib.pyplot as plt\n",
    "import plotly.express as px\n",
    "HRdb=pd.read_csv(\"C:/Users/Abc/Downloads/HRDataset_v14.csv\")\n",
    "HRdb.head()"
   ]
  },
  {
   "cell_type": "code",
   "execution_count": null,
   "id": "8334e8f7",
   "metadata": {},
   "outputs": [],
   "source": [
    "Abnb=pd.read_csv(\"C:/Users/Abc/Downloads/Airbnb_Dataset.csv\")\n"
   ]
  },
  {
   "cell_type": "code",
   "execution_count": null,
   "id": "e8e74032",
   "metadata": {},
   "outputs": [],
   "source": [
    "HRdb.describe()"
   ]
  },
  {
   "cell_type": "code",
   "execution_count": null,
   "id": "745c750d",
   "metadata": {},
   "outputs": [],
   "source": [
    "HRdb.isna().sum()"
   ]
  },
  {
   "cell_type": "code",
   "execution_count": null,
   "id": "060653f0",
   "metadata": {},
   "outputs": [],
   "source": [
    "HRdb[\"DateofTermination\"].fillna(\"NA\",inplace=True)"
   ]
  },
  {
   "cell_type": "code",
   "execution_count": null,
   "id": "39abf9a5",
   "metadata": {},
   "outputs": [],
   "source": [
    "HRdb.isna().sum()"
   ]
  },
  {
   "cell_type": "code",
   "execution_count": null,
   "id": "90206510",
   "metadata": {
    "scrolled": true
   },
   "outputs": [],
   "source": [
    "HRdb[HRdb.isna().any(axis=1)]"
   ]
  },
  {
   "cell_type": "code",
   "execution_count": null,
   "id": "4cf4cb9f",
   "metadata": {},
   "outputs": [],
   "source": [
    "HRdb.dropna(inplace=True)"
   ]
  },
  {
   "cell_type": "code",
   "execution_count": null,
   "id": "8a935929",
   "metadata": {},
   "outputs": [],
   "source": [
    "HRdb.isna().sum()"
   ]
  },
  {
   "cell_type": "code",
   "execution_count": null,
   "id": "63cbfc07",
   "metadata": {},
   "outputs": [],
   "source": [
    "HRdb.columns"
   ]
  },
  {
   "cell_type": "code",
   "execution_count": null,
   "id": "6b18f383",
   "metadata": {},
   "outputs": [],
   "source": [
    "fig=px.bar(HRdb,x=\"CitizenDesc\",color=\"CitizenDesc\",labels={\"count\":\"Number Of Employees\",\"CitizenDesc\":\"Citizenship Type\"},title=\"Employee Citizenship Type\")\n",
    "fig.show()\n"
   ]
  },
  {
   "cell_type": "code",
   "execution_count": null,
   "id": "092627b1",
   "metadata": {},
   "outputs": [],
   "source": [
    "fig=px.bar(HRdb,x=\"CitizenDesc\",color=\"EmploymentStatus\",labels={\"count\":\"Number Of Employees\",\"CitizenDesc\":\"Citizenship Type\",\"Employment Status\":\"EmployemntStatus\"},title=\"Employment Status Among Different Citizenship Type\")\n",
    "fig.show()"
   ]
  },
  {
   "cell_type": "code",
   "execution_count": null,
   "id": "86621f4e",
   "metadata": {
    "scrolled": true
   },
   "outputs": [],
   "source": [
    "fig=px.bar(HRdb,x=\"RaceDesc\",color=\"EmploymentStatus\",labels={\"count\":\"Number Of Employees\",\"Race\":\"RaceDesc\",\"Employment Status\":\"EmploymentStatus\"},title=\"Employment Status Among Different Race\")\n",
    "fig.show()"
   ]
  },
  {
   "cell_type": "code",
   "execution_count": null,
   "id": "2db22c96",
   "metadata": {},
   "outputs": [],
   "source": [
    "fig = px.pie(HRdb, values=\"Salary\",names=\"Department\",title=\"Salary Payout Among Different Departments\")\n",
    "fig.show()"
   ]
  },
  {
   "cell_type": "code",
   "execution_count": null,
   "id": "b3be4502",
   "metadata": {
    "scrolled": true
   },
   "outputs": [],
   "source": [
    "fig = px.bar(HRdb, x=\"Department\",\n",
    "             color=\"Sex\", barmode = 'group',labels={\"count\":\"Number Of Employees\",\"Department\":\"Department\",\"Gender\":\"Sex\"},title=\"Employees Gender Department Wise\")\n",
    "fig.show()"
   ]
  },
  {
   "cell_type": "code",
   "execution_count": null,
   "id": "83b832e3",
   "metadata": {},
   "outputs": [],
   "source": [
    "HRdb[\"Sex\"]"
   ]
  },
  {
   "cell_type": "code",
   "execution_count": null,
   "id": "efb67699",
   "metadata": {},
   "outputs": [],
   "source": [
    "fig = px.bar(HRdb, x=\"RecruitmentSource\",\n",
    "             color=\"PerformanceScore\", barmode='group',labels={\"count\":\"Number Of Employees\",\"Recruitment Source\":\"RecruitmentSource\",\"Performance Score\":\"PerformanceScore\"},title=\"Performance Based On Recruitment Source\")\n",
    "fig.show()"
   ]
  },
  {
   "cell_type": "code",
   "execution_count": null,
   "id": "047b8871",
   "metadata": {},
   "outputs": [],
   "source": [
    "fig = px.bar(HRdb, x=\"RecruitmentSource\",y=\"Salary\",color=\"Sex\",barmode='group')\n",
    "fig.show()"
   ]
  },
  {
   "cell_type": "code",
   "execution_count": null,
   "id": "8932fddc",
   "metadata": {
    "scrolled": false
   },
   "outputs": [],
   "source": [
    "fig = px.bar(HRdb, x=\"RecruitmentSource\",color=\"PerfScoreID\")\n",
    "fig.show()"
   ]
  },
  {
   "cell_type": "code",
   "execution_count": null,
   "id": "ed69da42",
   "metadata": {
    "scrolled": true
   },
   "outputs": [],
   "source": [
    "fig = px.scatter(HRdb, x=\"PerfScoreID\", y=\"Absences\")\n",
    "fig.show()"
   ]
  },
  {
   "cell_type": "code",
   "execution_count": null,
   "id": "31565292",
   "metadata": {},
   "outputs": [],
   "source": [
    "Abnb.head()"
   ]
  },
  {
   "cell_type": "code",
   "execution_count": null,
   "id": "29b6d503",
   "metadata": {},
   "outputs": [],
   "source": [
    "column=[]\n",
    "Column=[]\n",
    "column=Abnb.columns\n",
    "for i in column:\n",
    "    Column.append(i.title())\n",
    "Column\n",
    "Abnb.columns=Column\n",
    "Abnb.head()"
   ]
  },
  {
   "cell_type": "code",
   "execution_count": null,
   "id": "aa58830f",
   "metadata": {},
   "outputs": [],
   "source": [
    "Abnb.isna().sum()"
   ]
  },
  {
   "cell_type": "code",
   "execution_count": null,
   "id": "b53232e1",
   "metadata": {},
   "outputs": [],
   "source": [
    "Abnb[\"Last_Review\"].fillna(\"NA\",inplace=True)\n",
    "Abnb[\"Last_Review\"]"
   ]
  },
  {
   "cell_type": "code",
   "execution_count": null,
   "id": "0735c3ed",
   "metadata": {},
   "outputs": [],
   "source": [
    "Abnb[\"Reviews_Per_Month\"].mean()"
   ]
  },
  {
   "cell_type": "code",
   "execution_count": null,
   "id": "4f1e3229",
   "metadata": {},
   "outputs": [],
   "source": [
    "Abnb[\"Reviews_Per_Month\"].fillna(1.09,inplace=True)\n",
    "Abnb[\"Reviews_Per_Month\"]"
   ]
  },
  {
   "cell_type": "code",
   "execution_count": null,
   "id": "6f8b5118",
   "metadata": {},
   "outputs": [],
   "source": [
    "Abnb.isna().sum()"
   ]
  },
  {
   "cell_type": "code",
   "execution_count": null,
   "id": "582f80e2",
   "metadata": {},
   "outputs": [],
   "source": [
    "Abnb.duplicated().sum()"
   ]
  },
  {
   "cell_type": "code",
   "execution_count": null,
   "id": "ab23b12e",
   "metadata": {},
   "outputs": [],
   "source": [
    "Abnb[\"Name\"]"
   ]
  },
  {
   "cell_type": "code",
   "execution_count": null,
   "id": "a7593569",
   "metadata": {},
   "outputs": [],
   "source": [
    "Abnb.head()"
   ]
  }
 ],
 "metadata": {
  "kernelspec": {
   "display_name": "Python 3 (ipykernel)",
   "language": "python",
   "name": "python3"
  },
  "language_info": {
   "codemirror_mode": {
    "name": "ipython",
    "version": 3
   },
   "file_extension": ".py",
   "mimetype": "text/x-python",
   "name": "python",
   "nbconvert_exporter": "python",
   "pygments_lexer": "ipython3",
   "version": "3.9.12"
  }
 },
 "nbformat": 4,
 "nbformat_minor": 5
}
