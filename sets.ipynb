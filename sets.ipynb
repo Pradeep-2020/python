{
 "cells": [
  {
   "cell_type": "code",
   "execution_count": 22,
   "id": "85af6aa9",
   "metadata": {},
   "outputs": [
    {
     "name": "stdout",
     "output_type": "stream",
     "text": [
      "banana\n",
      "cherry\n",
      "dragon fruit\n",
      "apple\n"
     ]
    }
   ],
   "source": [
    "fruits={'apple','banana','cherry','dragon fruit'}\n",
    "fruits\n",
    "for i in fruits:\n",
    "    print(i)"
   ]
  },
  {
   "cell_type": "code",
   "execution_count": 23,
   "id": "9148aeaa",
   "metadata": {},
   "outputs": [
    {
     "data": {
      "text/plain": [
       "{'apple', 'banana', 'cherry', 'dragon fruit', 'watermelon'}"
      ]
     },
     "execution_count": 23,
     "metadata": {},
     "output_type": "execute_result"
    }
   ],
   "source": [
    "fruits={'apple','banana','cherry','dragon fruit'}.\n",
    "fruits.add('watermelon')\n",
    "fruits"
   ]
  },
  {
   "cell_type": "code",
   "execution_count": 25,
   "id": "a54f2164",
   "metadata": {},
   "outputs": [
    {
     "name": "stdout",
     "output_type": "stream",
     "text": [
      "cherry\n",
      "dragon fruit\n",
      "apple\n",
      "orange\n",
      "watermelon\n",
      "guava\n",
      "banana\n"
     ]
    }
   ],
   "source": [
    "fruits={'apple','banana','cherry','dragon fruit'}\n",
    "fruits.update({'orange','guava'})\n",
    "fruits\n",
    "for i in fruits:\n",
    "    print(i)"
   ]
  },
  {
   "cell_type": "code",
   "execution_count": 12,
   "id": "bebc9456",
   "metadata": {},
   "outputs": [
    {
     "ename": "KeyError",
     "evalue": "'papaya'",
     "output_type": "error",
     "traceback": [
      "\u001b[1;31m---------------------------------------------------------------------------\u001b[0m",
      "\u001b[1;31mKeyError\u001b[0m                                  Traceback (most recent call last)",
      "Input \u001b[1;32mIn [12]\u001b[0m, in \u001b[0;36m<cell line: 1>\u001b[1;34m()\u001b[0m\n\u001b[1;32m----> 1\u001b[0m \u001b[43mfruits\u001b[49m\u001b[38;5;241;43m.\u001b[39;49m\u001b[43mremove\u001b[49m\u001b[43m(\u001b[49m\u001b[38;5;124;43m'\u001b[39;49m\u001b[38;5;124;43mpapaya\u001b[39;49m\u001b[38;5;124;43m'\u001b[39;49m\u001b[43m)\u001b[49m\n",
      "\u001b[1;31mKeyError\u001b[0m: 'papaya'"
     ]
    }
   ],
   "source": [
    "fruits={'apple','banana','cherry','dragon fruit'}\n",
    "fruits.remove('papaya')"
   ]
  },
  {
   "cell_type": "code",
   "execution_count": 13,
   "id": "6b8af813",
   "metadata": {},
   "outputs": [],
   "source": [
    "fruits={'apple','banana','cherry','dragon fruit'}\n",
    "fruits.discard('papaya')"
   ]
  },
  {
   "cell_type": "code",
   "execution_count": 26,
   "id": "85fee7fb",
   "metadata": {},
   "outputs": [
    {
     "name": "stdout",
     "output_type": "stream",
     "text": [
      "{'cherry', 'dragon fruit', 'apple', 'orange', 'watermelon', 'guava'}\n"
     ]
    }
   ],
   "source": [
    "fruits={'apple','banana','cherry','dragon fruit'}\n",
    "fruits.remove('banana')\n",
    "print(fruits)"
   ]
  },
  {
   "cell_type": "code",
   "execution_count": 27,
   "id": "70f2fa91",
   "metadata": {},
   "outputs": [
    {
     "name": "stdout",
     "output_type": "stream",
     "text": [
      "{'banana', 'dragon fruit', 'apple'}\n"
     ]
    }
   ],
   "source": [
    "fruits={'apple','banana','cherry','dragon fruit'}\n",
    "fruits.discard('cherry')\n",
    "print(fruits)"
   ]
  },
  {
   "cell_type": "code",
   "execution_count": 15,
   "id": "dcff1f37",
   "metadata": {},
   "outputs": [
    {
     "name": "stdout",
     "output_type": "stream",
     "text": [
      "{'cherry', 'dragon fruit', 'apple', 'orange', 'watermelon', 'guava', 'banana'}\n",
      "{'dragon fruit', 'apple', 'orange', 'watermelon', 'guava', 'banana'}\n"
     ]
    }
   ],
   "source": [
    "fruits={'apple','banana','cherry','dragon fruit'}\n",
    "print(fruits)\n",
    "fruits.pop()\n",
    "print(fruits)"
   ]
  },
  {
   "cell_type": "code",
   "execution_count": 16,
   "id": "c3febe29",
   "metadata": {},
   "outputs": [
    {
     "name": "stdout",
     "output_type": "stream",
     "text": [
      "set()\n"
     ]
    }
   ],
   "source": [
    "fruits={'apple','banana','cherry','dragon fruit'}\n",
    "fruits.clear()\n",
    "print(fruits)"
   ]
  },
  {
   "cell_type": "markdown",
   "id": "2619529e",
   "metadata": {},
   "source": [
    "### Operations of Set: -\n",
    "\n",
    "\n",
    "\n",
    "Set union\n",
    "\n",
    "Set Intersection\n",
    "\n",
    "Set Difference\n",
    "\n",
    "Set Symmetric Difference\n",
    "\n",
    "### Set union: - Union of two sets is the set of all elements from both the sets.\n",
    "\n",
    "The union can be performed in two ways:\n",
    "\n",
    "\n",
    "\n",
    "#### Using the “OR”( | ) operator."
   ]
  },
  {
   "cell_type": "code",
   "execution_count": 28,
   "id": "91096943",
   "metadata": {},
   "outputs": [
    {
     "data": {
      "text/plain": [
       "{1, 2, 3, 4, 5, 6, 7, 8, 9}"
      ]
     },
     "execution_count": 28,
     "metadata": {},
     "output_type": "execute_result"
    }
   ],
   "source": [
    "a={1,2,3,4,5,6}\n",
    "b={4,5,6,7,8,9}\n",
    "a|b"
   ]
  },
  {
   "cell_type": "markdown",
   "id": "33025a98",
   "metadata": {},
   "source": [
    "#### Using union() method."
   ]
  },
  {
   "cell_type": "code",
   "execution_count": 29,
   "id": "89bd122d",
   "metadata": {},
   "outputs": [
    {
     "data": {
      "text/plain": [
       "{1, 2, 3, 4, 5, 6, 7, 8, 9}"
      ]
     },
     "execution_count": 29,
     "metadata": {},
     "output_type": "execute_result"
    }
   ],
   "source": [
    "a={1,2,3,4,5,6}\n",
    "b={4,5,6,7,8,9}\n",
    "a.union(b)"
   ]
  },
  {
   "cell_type": "code",
   "execution_count": 30,
   "id": "53127545",
   "metadata": {},
   "outputs": [
    {
     "data": {
      "text/plain": [
       "{1, 2, 3, 4, 5, 6, 7, 8, 9}"
      ]
     },
     "execution_count": 30,
     "metadata": {},
     "output_type": "execute_result"
    }
   ],
   "source": [
    "a={1,2,3,4,5,6}\n",
    "b={4,5,6,7,8,9}\n",
    "b.union(a)"
   ]
  },
  {
   "cell_type": "markdown",
   "id": "0506db87",
   "metadata": {},
   "source": [
    "### Set Intersection: - Intersection of two sets is the set of elements that are present in both the sets.\n",
    "\n",
    "The set intersection is performed:\n",
    "\n",
    "\n",
    "\n",
    "#### Using “AND” (&) operator,\n",
    "\n"
   ]
  },
  {
   "cell_type": "code",
   "execution_count": 32,
   "id": "cb113746",
   "metadata": {},
   "outputs": [
    {
     "data": {
      "text/plain": [
       "{4, 5, 6}"
      ]
     },
     "execution_count": 32,
     "metadata": {},
     "output_type": "execute_result"
    }
   ],
   "source": [
    "a={1,2,3,4,5,6}\n",
    "b={4,5,6,7,8,9}\n",
    "a&b"
   ]
  },
  {
   "cell_type": "markdown",
   "id": "fcb4bd0d",
   "metadata": {},
   "source": [
    "#### Using the intersection() method."
   ]
  },
  {
   "cell_type": "code",
   "execution_count": 33,
   "id": "ab582d28",
   "metadata": {},
   "outputs": [
    {
     "data": {
      "text/plain": [
       "{4, 5, 6}"
      ]
     },
     "execution_count": 33,
     "metadata": {},
     "output_type": "execute_result"
    }
   ],
   "source": [
    "a={1,2,3,4,5,6}\n",
    "b={4,5,6,7,8,9}\n",
    "a.intersection(b)"
   ]
  },
  {
   "cell_type": "code",
   "execution_count": 34,
   "id": "edc957cd",
   "metadata": {},
   "outputs": [
    {
     "data": {
      "text/plain": [
       "{4, 5, 6}"
      ]
     },
     "execution_count": 34,
     "metadata": {},
     "output_type": "execute_result"
    }
   ],
   "source": [
    "a={1,2,3,4,5,6}\n",
    "b={4,5,6,7,8,9}\n",
    "b.intersection(a)"
   ]
  },
  {
   "cell_type": "markdown",
   "id": "d2bfdcee",
   "metadata": {},
   "source": [
    "### Set Difference: - \n",
    "Difference of set B from the set A is the set of elements that are only in A but not in B.\n",
    "You can use the Difference() Method to get the Same Results."
   ]
  },
  {
   "cell_type": "code",
   "execution_count": 35,
   "id": "9c6591e1",
   "metadata": {},
   "outputs": [
    {
     "data": {
      "text/plain": [
       "{1, 2, 3}"
      ]
     },
     "execution_count": 35,
     "metadata": {},
     "output_type": "execute_result"
    }
   ],
   "source": [
    "a={1,2,3,4,5,6}\n",
    "b={4,5,6,7,8,9}\n",
    "a-b"
   ]
  },
  {
   "cell_type": "code",
   "execution_count": 36,
   "id": "e135b0a6",
   "metadata": {},
   "outputs": [
    {
     "data": {
      "text/plain": [
       "{7, 8, 9}"
      ]
     },
     "execution_count": 36,
     "metadata": {},
     "output_type": "execute_result"
    }
   ],
   "source": [
    "a={1,2,3,4,5,6}\n",
    "b={4,5,6,7,8,9}\n",
    "b-a"
   ]
  },
  {
   "cell_type": "markdown",
   "id": "8a36f23d",
   "metadata": {},
   "source": [
    "#### Using the difference() method"
   ]
  },
  {
   "cell_type": "code",
   "execution_count": 38,
   "id": "367cb374",
   "metadata": {},
   "outputs": [
    {
     "data": {
      "text/plain": [
       "{1, 2, 3}"
      ]
     },
     "execution_count": 38,
     "metadata": {},
     "output_type": "execute_result"
    }
   ],
   "source": [
    "a={1,2,3,4,5,6}\n",
    "b={4,5,6,7,8,9}\n",
    "a.difference(b)"
   ]
  },
  {
   "cell_type": "code",
   "execution_count": 39,
   "id": "a00575c7",
   "metadata": {},
   "outputs": [
    {
     "data": {
      "text/plain": [
       "{7, 8, 9}"
      ]
     },
     "execution_count": 39,
     "metadata": {},
     "output_type": "execute_result"
    }
   ],
   "source": [
    "a={1,2,3,4,5,6}\n",
    "b={4,5,6,7,8,9}\n",
    "b.difference(a)"
   ]
  },
  {
   "cell_type": "markdown",
   "id": "076f3deb",
   "metadata": {},
   "source": [
    "### Set Symmetric Difference: - Set symmetric difference is the set of all elements from A and B excluding elements that are common in both.\n",
    "\n",
    "Symmetric difference is performed:\n",
    "\n",
    "\n",
    "\n",
    "#### Using the ^ operator,"
   ]
  },
  {
   "cell_type": "code",
   "execution_count": 40,
   "id": "3fb1ac3d",
   "metadata": {},
   "outputs": [
    {
     "data": {
      "text/plain": [
       "{1, 2, 3, 7, 8, 9}"
      ]
     },
     "execution_count": 40,
     "metadata": {},
     "output_type": "execute_result"
    }
   ],
   "source": [
    "a={1,2,3,4,5,6}\n",
    "b={4,5,6,7,8,9}\n",
    "a^b"
   ]
  },
  {
   "cell_type": "markdown",
   "id": "4d06f2c5",
   "metadata": {},
   "source": [
    "#### Using the symmetric_difference() method."
   ]
  },
  {
   "cell_type": "code",
   "execution_count": 42,
   "id": "eff88d73",
   "metadata": {},
   "outputs": [
    {
     "data": {
      "text/plain": [
       "{1, 2, 3, 7, 8, 9}"
      ]
     },
     "execution_count": 42,
     "metadata": {},
     "output_type": "execute_result"
    }
   ],
   "source": [
    "a={1,2,3,4,5,6}\n",
    "b={4,5,6,7,8,9}\n",
    "a.symmetric_difference(b)"
   ]
  },
  {
   "cell_type": "code",
   "execution_count": 43,
   "id": "f26fe23a",
   "metadata": {},
   "outputs": [
    {
     "data": {
      "text/plain": [
       "{1, 2, 3, 7, 8, 9}"
      ]
     },
     "execution_count": 43,
     "metadata": {},
     "output_type": "execute_result"
    }
   ],
   "source": [
    "a={1,2,3,4,5,6}\n",
    "b={4,5,6,7,8,9}\n",
    "b.symmetric_difference(a)"
   ]
  }
 ],
 "metadata": {
  "kernelspec": {
   "display_name": "Python 3 (ipykernel)",
   "language": "python",
   "name": "python3"
  },
  "language_info": {
   "codemirror_mode": {
    "name": "ipython",
    "version": 3
   },
   "file_extension": ".py",
   "mimetype": "text/x-python",
   "name": "python",
   "nbconvert_exporter": "python",
   "pygments_lexer": "ipython3",
   "version": "3.9.12"
  }
 },
 "nbformat": 4,
 "nbformat_minor": 5
}
